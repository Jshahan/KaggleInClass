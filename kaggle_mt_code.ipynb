{
 "cells": [
  {
   "cell_type": "code",
   "execution_count": 10,
   "metadata": {
    "collapsed": true
   },
   "outputs": [],
   "source": [
    "import pandas as pd\n",
    "import numpy as np\n",
    "import xgboost as xgb\n",
    "from sklearn import cross_validation\n",
    "from sklearn.feature_selection import VarianceThreshold\n",
    "\n",
    "SEED = 42"
   ]
  },
  {
   "cell_type": "code",
   "execution_count": 24,
   "metadata": {
    "collapsed": true
   },
   "outputs": [],
   "source": [
    "train = pd.read_csv('train_final.csv')\n",
    "train = train.fillna(train.mean())\n",
    "X_train = train.loc[:, 'F1':'F27']\n",
    "y_train = train.loc[:, 'Y']\n",
    "test = pd.read_csv(filepath_or_buffer= 'test_final.csv', index_col = 'id')\n",
    "test = test.fillna(test.mean())\n",
    "X_train.corr()\n",
    "X_train = X_train.drop('F6',1)\n",
    "test = test.drop('F6',1)\n",
    "X_train = X_train.drop('F26', 1)\n",
    "test = test.drop('F26', 1)"
   ]
  },
  {
   "cell_type": "code",
   "execution_count": 25,
   "metadata": {
    "collapsed": true
   },
   "outputs": [],
   "source": [
    "def create_test_submission(filename, prediction):\n",
    "    content = ['id,Y']\n",
    "    for i, p in enumerate(prediction):\n",
    "        content.append('%i,%f' %(i+49999,p))\n",
    "    f = open(filename, 'w')\n",
    "    f.write('\\n'.join(content))\n",
    "    f.close()\n",
    "    print 'Saved'"
   ]
  },
  {
   "cell_type": "code",
   "execution_count": 26,
   "metadata": {
    "collapsed": true
   },
   "outputs": [],
   "source": [
    "X_new = VarianceThreshold(1.3).fit_transform(X_train)\n",
    "X_test = VarianceThreshold(1.25).fit_transform(test)"
   ]
  },
  {
   "cell_type": "code",
   "execution_count": 27,
   "metadata": {
    "collapsed": false
   },
   "outputs": [
    {
     "name": "stdout",
     "output_type": "stream",
     "text": [
      "Making prediction and saving results...\n",
      "Saved\n"
     ]
    }
   ],
   "source": [
    "model = xgb.XGBClassifier(max_depth=4, n_estimators=1000, learning_rate=0.01, min_child_weight=5, gamma=.8, subsample=.4, reg_alpha=.5, colsample_bytree=.4,reg_lambda=.93)\n",
    "model.fit(X_new, y_train)\n",
    "print \"Making prediction and saving results...\"\n",
    "preds = model.predict_proba(X_test)[:,1]\n",
    "create_test_submission('XGB.csv', preds)"
   ]
  }
 ],
 "metadata": {
  "kernelspec": {
   "display_name": "Python 2",
   "language": "python",
   "name": "python2"
  },
  "language_info": {
   "codemirror_mode": {
    "name": "ipython",
    "version": 2
   },
   "file_extension": ".py",
   "mimetype": "text/x-python",
   "name": "python",
   "nbconvert_exporter": "python",
   "pygments_lexer": "ipython2",
   "version": "2.7.12"
  }
 },
 "nbformat": 4,
 "nbformat_minor": 0
}
